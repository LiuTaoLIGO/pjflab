{
 "cells": [
  {
   "cell_type": "code",
   "execution_count": 8,
   "metadata": {},
   "outputs": [
    {
     "data": {
      "image/png": "[encoded data removed]",
      "text/plain": [
       "<Figure size 384x288 with 2 Axes>"
      ]
     },
     "metadata": {
      "needs_background": "light"
     },
     "output_type": "display_data"
    }
   ],
   "source": [
    "import numpy as np\n",
    "import matplotlib.pyplot as plt\n",
    "#specifying pixel grid (i.e. 9x9 grid of pixels to investigate)\n",
    "columns = 9\n",
    "rows = 9\n",
    "\n",
    "#example showing generation of appropriate pixel IDs to generate evenly space 9x9 array of pixels\n",
    "pixID = np.zeros((540,720));\n",
    "width= 10\n",
    "\n",
    "for i in range(columns):\n",
    "    for j in range(rows):\n",
    "        #for q in range(width): (to show up better when plotting in small res)\n",
    "            #pixID[min((30+60*j)+q, 539)][min((40+80*i)+q, 719)] = 10;\n",
    "        pixID[min((30+60*j), 539)][min((40+80*i), 719)] = 10;\n",
    "\n",
    "plt.matshow(pixID); #note this doesn't appear to be all 81 points from color plot, however\n",
    "plt.colorbar(); #you can see in np.where (next cell) there are indeed 81 evenly spaced points\n",
    "plt.show() #throughout the matrix they just don't appear well on the plot for some reason???\n"
   ]
  },
  {
   "cell_type": "code",
   "execution_count": 9,
   "metadata": {},
   "outputs": [
    {
     "data": {
      "text/plain": [
       "(array([ 30,  30,  30,  30,  30,  30,  30,  30,  30,  90,  90,  90,  90,\n",
       "         90,  90,  90,  90,  90, 150, 150, 150, 150, 150, 150, 150, 150,\n",
       "        150, 210, 210, 210, 210, 210, 210, 210, 210, 210, 270, 270, 270,\n",
       "        270, 270, 270, 270, 270, 270, 330, 330, 330, 330, 330, 330, 330,\n",
       "        330, 330, 390, 390, 390, 390, 390, 390, 390, 390, 390, 450, 450,\n",
       "        450, 450, 450, 450, 450, 450, 450, 510, 510, 510, 510, 510, 510,\n",
       "        510, 510, 510]),\n",
       " array([ 40, 120, 200, 280, 360, 440, 520, 600, 680,  40, 120, 200, 280,\n",
       "        360, 440, 520, 600, 680,  40, 120, 200, 280, 360, 440, 520, 600,\n",
       "        680,  40, 120, 200, 280, 360, 440, 520, 600, 680,  40, 120, 200,\n",
       "        280, 360, 440, 520, 600, 680,  40, 120, 200, 280, 360, 440, 520,\n",
       "        600, 680,  40, 120, 200, 280, 360, 440, 520, 600, 680,  40, 120,\n",
       "        200, 280, 360, 440, 520, 600, 680,  40, 120, 200, 280, 360, 440,\n",
       "        520, 600, 680]))"
      ]
     },
     "execution_count": 9,
     "metadata": {},
     "output_type": "execute_result"
    }
   ],
   "source": [
    "#shows which pixel indices contain the assigned value of 10 from the for loop (cell above)\n",
    "np.where(pixID == 10)\n",
    "\n"
   ]
  },
  {
   "cell_type": "code",
   "execution_count": 11,
   "metadata": {},
   "outputs": [
    {
     "data": {
      "text/plain": [
       "{0.0: 388719, 10.0: 81}"
      ]
     },
     "execution_count": 11,
     "metadata": {},
     "output_type": "execute_result"
    }
   ],
   "source": [
    "#counts how many pixels have been given the assigned value (9*9=81)\n",
    "unique, counts = np.unique(pixID, return_counts=True)\n",
    "dict(zip(unique, counts))"
   ]
  },
  {
   "cell_type": "code",
   "execution_count": 12,
   "metadata": {},
   "outputs": [],
   "source": [
    "#convert pixID to np.ravel (1D array)\n",
    "\n",
    "pixID = np.ravel(pixID)"
   ]
  },
  {
   "cell_type": "code",
   "execution_count": 308,
   "metadata": {},
   "outputs": [
    {
     "data": {
      "text/plain": [
       "(array([ 21640,  21720,  21800,  21880,  21960,  22040,  22120,  22200,\n",
       "         22280,  64840,  64920,  65000,  65080,  65160,  65240,  65320,\n",
       "         65400,  65480, 108040, 108120, 108200, 108280, 108360, 108440,\n",
       "        108520, 108600, 108680, 151240, 151320, 151400, 151480, 151560,\n",
       "        151640, 151720, 151800, 151880, 194440, 194520, 194600, 194680,\n",
       "        194760, 194840, 194920, 195000, 195080, 237640, 237720, 237800,\n",
       "        237880, 237960, 238040, 238120, 238200, 238280, 280840, 280920,\n",
       "        281000, 281080, 281160, 281240, 281320, 281400, 281480, 324040,\n",
       "        324120, 324200, 324280, 324360, 324440, 324520, 324600, 324680,\n",
       "        367240, 367320, 367400, 367480, 367560, 367640, 367720, 367800,\n",
       "        367880]),)"
      ]
     },
     "execution_count": 308,
     "metadata": {},
     "output_type": "execute_result"
    }
   ],
   "source": [
    "#show indices again for raveled array\n",
    "np.where(pixID == 10) #this appears okay as the first 30 rows of 720 columns (i.e. 30*720=21600)\n",
    "                      #are skipped and then add on the spacer of 40 columns away from edge \n",
    "                    #(i.e. 21600+40 = 21640 == first index with value 10, as desired)"
   ]
  },
  {
   "cell_type": "code",
   "execution_count": 13,
   "metadata": {},
   "outputs": [],
   "source": [
    "#assign the locations where np.where(pixID == 10) returns the ravel index then convert tuple object\n",
    "#to a numpy array again\n",
    "Array_PixID = np.where(pixID == 10)\n",
    "Array_PixID = np.ravel(Array_PixID)"
   ]
  },
  {
   "cell_type": "code",
   "execution_count": 14,
   "metadata": {},
   "outputs": [
    {
     "data": {
      "text/plain": [
       "81"
      ]
     },
     "execution_count": 14,
     "metadata": {},
     "output_type": "execute_result"
    }
   ],
   "source": [
    "#should be size 81 (i.e. 81 elements in np array), which it is\n",
    "np.size(Array_PixID)"
   ]
  },
  {
   "cell_type": "code",
   "execution_count": 15,
   "metadata": {},
   "outputs": [
    {
     "name": "stdout",
     "output_type": "stream",
     "text": [
      "Yaaaaa\n"
     ]
    }
   ],
   "source": [
    "\n",
    "if type(Array_PixID) is np.ndarray:\n",
    "   print('Yaaaaa')\n",
    "else:\n",
    "    print('nnoooooooo')"
   ]
  },
  {
   "cell_type": "code",
   "execution_count": 18,
   "metadata": {},
   "outputs": [
    {
     "data": {
      "text/plain": [
       "21640"
      ]
     },
     "execution_count": 18,
     "metadata": {},
     "output_type": "execute_result"
    }
   ],
   "source": [
    "#this shows value of this array is no longer 0 or 10 but the index which held the evenly spaced\n",
    "#pixels for the pixel grid\n",
    "Array_PixID[0]"
   ]
  },
  {
   "cell_type": "code",
   "execution_count": null,
   "metadata": {},
   "outputs": [],
   "source": []
  }
 ],
 "metadata": {
  "kernelspec": {
   "display_name": "Python 3",
   "language": "python",
   "name": "python3"
  },
  "language_info": {
   "codemirror_mode": {
    "name": "ipython",
    "version": 3
   },
   "file_extension": ".py",
   "mimetype": "text/x-python",
   "name": "python",
   "nbconvert_exporter": "python",
   "pygments_lexer": "ipython3",
   "version": "3.7.3"
  }
 },
 "nbformat": 4,
 "nbformat_minor": 2
}
